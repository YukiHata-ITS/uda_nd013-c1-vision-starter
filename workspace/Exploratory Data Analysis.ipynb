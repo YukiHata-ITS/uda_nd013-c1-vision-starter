{
 "cells": [
  {
   "cell_type": "markdown",
   "metadata": {},
   "source": [
    "# Explore the dataset\n",
    "\n",
    "\n",
    "In this notebook, we will perform an EDA (Exploratory Data Analysis) on the processed Waymo dataset (data in the `processed` folder). In the first part, you will create a function to display "
   ]
  },
  {
   "cell_type": "code",
   "execution_count": 1,
   "metadata": {},
   "outputs": [],
   "source": [
    "from utils import get_dataset"
   ]
  },
  {
   "cell_type": "code",
   "execution_count": 25,
   "metadata": {},
   "outputs": [],
   "source": [
    "import os\n",
    "import glob\n",
    "\n",
    "import matplotlib\n",
    "matplotlib.use('TkAgg')\n",
    "            \n",
    "import matplotlib.pyplot as plt\n",
    "import numpy as np\n",
    "from matplotlib.patches import Rectangle\n",
    "from PIL import Image"
   ]
  },
  {
   "cell_type": "code",
   "execution_count": 26,
   "metadata": {
    "scrolled": true
   },
   "outputs": [
    {
     "name": "stdout",
     "output_type": "stream",
     "text": [
      "data/waymo/training_and_validation/segment-1005081002024129653_5313_150_5333_150_with_camera_labels.tfrecord\n",
      "INFO:tensorflow:Reading unweighted datasets: ['data/waymo/training_and_validation/segment-1005081002024129653_5313_150_5333_150_with_camera_labels.tfrecord']\n",
      "INFO:tensorflow:Reading record datasets for input file: ['data/waymo/training_and_validation/segment-1005081002024129653_5313_150_5333_150_with_camera_labels.tfrecord']\n",
      "INFO:tensorflow:Number of filenames to read: 1\n",
      "WARNING:tensorflow:num_readers has been reduced to 1 to match input file shards.\n",
      "-----------------------------------------------------------\n",
      "<DatasetV1Adapter shapes: {image: (None, None, 3), source_id: (), key: (), filename: (), groundtruth_image_confidences: (None,), groundtruth_verified_neg_classes: (None,), groundtruth_not_exhaustive_classes: (None,), groundtruth_boxes: (None, 4), groundtruth_area: (None,), groundtruth_is_crowd: (None,), groundtruth_difficult: (None,), groundtruth_group_of: (None,), groundtruth_weights: (None,), groundtruth_classes: (None,), groundtruth_image_classes: (None,), original_image_spatial_shape: (2,)}, types: {image: tf.uint8, source_id: tf.string, key: tf.string, filename: tf.string, groundtruth_image_confidences: tf.float32, groundtruth_verified_neg_classes: tf.int64, groundtruth_not_exhaustive_classes: tf.int64, groundtruth_boxes: tf.float32, groundtruth_area: tf.float32, groundtruth_is_crowd: tf.bool, groundtruth_difficult: tf.int64, groundtruth_group_of: tf.bool, groundtruth_weights: tf.float32, groundtruth_classes: tf.int64, groundtruth_image_classes: tf.int64, original_image_spatial_shape: tf.int32}>\n"
     ]
    }
   ],
   "source": [
    "paths = glob.glob('data/waymo/training_and_validation/*')\n",
    "i = 0\n",
    "#filename = os.path.basename(paths)\n",
    "print(paths[i])\n",
    "dataset = get_dataset(paths[i])\n",
    "print('-----------------------------------------------------------')\n",
    "print(dataset)"
   ]
  },
  {
   "cell_type": "markdown",
   "metadata": {},
   "source": [
    "## Write a function to display an image and the bounding boxes\n",
    "\n",
    "Implement the `display_instances` function below. This function takes a batch as an input and display an image with its corresponding bounding boxes. The only requirement is that the classes should be color coded (eg, vehicles in red, pedestrians in blue, cyclist in green)."
   ]
  },
  {
   "cell_type": "code",
   "execution_count": 38,
   "metadata": {},
   "outputs": [],
   "source": [
    "def display_instances(batch):\n",
    "    \"\"\"\n",
    "    This function takes a batch from the dataset and display the image with \n",
    "    the associated bounding boxes.\n",
    "    この関数は、データセットからバッチを取得し、関連する境界ボックスとともに画像を表示します。\n",
    "    \"\"\"\n",
    "    # ADD CODE HERE\n",
    "\n",
    "    ##### 色指定\n",
    "    # color for different classes\n",
    "    colormap = {1: [1, 0 , 0], 2: [0, 0, 1], 4: [0, 1, 0]}\n",
    "    \n",
    "    ##### サブプロット領域設定。1×2、画像サイズ=(10, 10)\n",
    "    num_col = 5\n",
    "    num_row = (len(batch) + num_col -1) // num_col\n",
    "    f, ax = plt.subplots(num_row, num_col, figsize=(20, 10))\n",
    "    \n",
    "    ##### batchのインデックスと中身を反復子にしてループ\n",
    "    for idx, batch_data in enumerate(batch):\n",
    "        img = batch_data[\"image\"]\n",
    "        x = idx // num_col\n",
    "        y = idx % num_col       \n",
    "        \n",
    "        ##### 画像をセット\n",
    "        ax[x, y].imshow(img)\n",
    "        \n",
    "        ##### バウンディボックス\n",
    "        gt_boxes = batch_data[\"groundtruth_boxes\"]\n",
    "        gt_classes = batch_data[\"groundtruth_classes\"]\n",
    "        for bb, obj_class in zip(gt_boxes, gt_classes):\n",
    "            y1, x1, y2, x2 = bb\n",
    "            x1 *= img.shape[0]\n",
    "            y1 *= img.shape[1]\n",
    "            y2 *= img.shape[0]\n",
    "            x2 *= img.shape[1]\n",
    "            rec = Rectangle((x1, y1), x2-x1, y2-y1, facecolor='none', edgecolor=colormap[obj_class])\n",
    "#            rec = Rectangle((x1, y1), x2-x1, y2-y1, facecolor='none', edgecolor='r')\n",
    "            ax[x, y].add_patch(rec)\n",
    "    plt.tight_layout()\n",
    "    plt.show()\n",
    "\n"
   ]
  },
  {
   "cell_type": "markdown",
   "metadata": {},
   "source": [
    "## Display 10 images \n",
    "\n",
    "Using the dataset created in the second cell and the function you just coded, display 10 random images with the associated bounding boxes. You can use the methods `take` and `shuffle` on the dataset."
   ]
  },
  {
   "cell_type": "code",
   "execution_count": 40,
   "metadata": {},
   "outputs": [],
   "source": [
    "## STUDENT SOLUTION HERE\n",
    "\n",
    "batch = dataset.shuffle(10).take(10)\n",
    "display_instances(list(batch.as_numpy_iterator()))\n",
    "\n",
    "\n",
    "def not_use():\n",
    "    # color mapping of clasess\n",
    "    colormap = {1:[1, 0, 0], 2:[0, 1, 0], 4:[0, 0, 1]}\n",
    "    \n",
    "    f, ax = plt.subplots(4, 5, figsize=(20, 10))\n",
    "    \n",
    "    # \n",
    "    for i in range(20):\n",
    "        x = i % 4\n",
    "        y = i % 5\n",
    "        \n",
    "        filename = os.path.basename(paths[i])\n",
    "        "
   ]
  },
  {
   "cell_type": "markdown",
   "metadata": {},
   "source": [
    "## Additional EDA\n",
    "\n",
    "In this last part, you are free to perform any additional analysis of the dataset. What else would like to know about the data?\n",
    "For example, think about data distribution. So far, you have only looked at a single file..."
   ]
  },
  {
   "cell_type": "code",
   "execution_count": null,
   "metadata": {},
   "outputs": [],
   "source": []
  }
 ],
 "metadata": {
  "kernelspec": {
   "display_name": "Python 3",
   "language": "python",
   "name": "python3"
  },
  "language_info": {
   "codemirror_mode": {
    "name": "ipython",
    "version": 3
   },
   "file_extension": ".py",
   "mimetype": "text/x-python",
   "name": "python",
   "nbconvert_exporter": "python",
   "pygments_lexer": "ipython3",
   "version": "3.7.3"
  }
 },
 "nbformat": 4,
 "nbformat_minor": 4
}
